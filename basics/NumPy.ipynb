{
 "cells": [
  {
   "cell_type": "code",
   "execution_count": 1,
   "id": "ec7387df",
   "metadata": {},
   "outputs": [
    {
     "name": "stdout",
     "output_type": "stream",
     "text": [
      "array([[0., 1., 2.],\n",
      "       [3., 4., 5.]], dtype=float32)\n"
     ]
    }
   ],
   "source": [
    "import numpy as np\n",
    "\n",
    "arr = np.array([[0, 1, 2], [3, 4, 5]],\n",
    "               dtype=np.float32)\n",
    "print(repr(arr))"
   ]
  },
  {
   "cell_type": "code",
   "execution_count": 2,
   "id": "c181cafb",
   "metadata": {},
   "outputs": [
    {
     "name": "stdout",
     "output_type": "stream",
     "text": [
      "Array a: array([0, 1])\n",
      "Array a: array([5, 1])\n",
      "Array b: array([9, 8])\n"
     ]
    }
   ],
   "source": [
    "# copying\n",
    "a = np.array([0, 1])\n",
    "b = np.array([9, 8])\n",
    "c = a\n",
    "print('Array a: {}'.format(repr(a)))\n",
    "c[0] = 5\n",
    "print('Array a: {}'.format(repr(a)))\n",
    "\n",
    "d = b.copy()\n",
    "d[0] = 6\n",
    "print('Array b: {}'.format(repr(b)))"
   ]
  },
  {
   "cell_type": "code",
   "execution_count": 3,
   "id": "dc17ed24",
   "metadata": {},
   "outputs": [
    {
     "name": "stdout",
     "output_type": "stream",
     "text": [
      "int64\n",
      "float32\n"
     ]
    }
   ],
   "source": [
    "arr = np.array([0, 1, 2])\n",
    "print(arr.dtype)\n",
    "arr = arr.astype(np.float32)\n",
    "print(arr.dtype)"
   ]
  },
  {
   "cell_type": "code",
   "execution_count": 4,
   "id": "5e9c5131",
   "metadata": {},
   "outputs": [
    {
     "name": "stdout",
     "output_type": "stream",
     "text": [
      "array([nan,  1.,  2.])\n",
      "array(['nan', 'abc'], dtype='<U32')\n"
     ]
    },
    {
     "data": {
      "text/plain": [
       "array([nan,  1.,  2.], dtype=float32)"
      ]
     },
     "execution_count": 4,
     "metadata": {},
     "output_type": "execute_result"
    }
   ],
   "source": [
    "arr = np.array([np.nan, 1, 2])\n",
    "print(repr(arr))\n",
    "\n",
    "arr = np.array([np.nan, 'abc'])\n",
    "print(repr(arr))\n",
    "\n",
    "# Will result in a ValueError: If we uncomment line 8 and run again.\n",
    "#np.array([np.nan, 1, 2], dtype=np.int32)\n",
    "np.array([np.nan, 1, 2], dtype=np.float32)"
   ]
  },
  {
   "cell_type": "code",
   "execution_count": 5,
   "id": "dd3a4c0a",
   "metadata": {},
   "outputs": [
    {
     "name": "stdout",
     "output_type": "stream",
     "text": [
      "True\n",
      "array([inf,  5.])\n",
      "array([-inf,   1.])\n"
     ]
    },
    {
     "data": {
      "text/plain": [
       "array([inf,  3.], dtype=float32)"
      ]
     },
     "execution_count": 5,
     "metadata": {},
     "output_type": "execute_result"
    }
   ],
   "source": [
    "print(np.inf > 1000000)\n",
    "\n",
    "arr = np.array([np.inf, 5])\n",
    "print(repr(arr))\n",
    "\n",
    "arr = np.array([-np.inf, 1])\n",
    "print(repr(arr))\n",
    "\n",
    "# Will result in a OverflowError: If we uncomment line 10 and run again.\n",
    "#np.array([np.inf, 3], dtype=np.int32)\n",
    "np.array([np.inf, 3], dtype=np.float32)\n"
   ]
  },
  {
   "cell_type": "code",
   "execution_count": 6,
   "id": "5424e6a5",
   "metadata": {},
   "outputs": [
    {
     "name": "stdout",
     "output_type": "stream",
     "text": [
      "array([-1,  0,  1,  2,  3])\n",
      "array([-1.5,  0.5,  2.5])\n",
      "array([ 5.,  7.,  9., 11.])\n",
      "array([5. , 6.5, 8. , 9.5])\n",
      "array([ 5,  7,  9, 11], dtype=int32)\n",
      "array([[0, 1, 2, 3],\n",
      "       [4, 5, 6, 7]])\n",
      "New shape: (2, 4)\n",
      "array([[[0, 1],\n",
      "        [2, 3]],\n",
      "\n",
      "       [[4, 5],\n",
      "        [6, 7]]])\n",
      "New shape: (2, 2, 2)\n",
      "array([[0, 1, 2, 3],\n",
      "       [4, 5, 6, 7]])\n",
      "arr shape: (2, 4)\n",
      "array([0, 1, 2, 3, 4, 5, 6, 7])\n",
      "flattened shape: (8,)\n",
      "array([[0, 1],\n",
      "       [2, 3],\n",
      "       [4, 5],\n",
      "       [6, 7]])\n",
      "arr shape: (4, 2)\n",
      "array([[0, 2, 4, 6],\n",
      "       [1, 3, 5, 7]])\n",
      "transposed shape: (2, 4)\n",
      "arr shape: (3, 4, 2)\n",
      "transposed shape: (4, 2, 3)\n",
      "array([0., 0., 0., 0.])\n",
      "array([[1., 1., 1.],\n",
      "       [1., 1., 1.]])\n",
      "array([[1, 1, 1],\n",
      "       [1, 1, 1]], dtype=int32)\n",
      "array([[0, 0],\n",
      "       [0, 0]])\n",
      "array([[1., 1.],\n",
      "       [1., 1.]])\n",
      "array([[1, 1],\n",
      "       [1, 1]], dtype=int32)\n"
     ]
    }
   ],
   "source": [
    "arr = np.arange(-1, 4)\n",
    "print(repr(arr))\n",
    "\n",
    "arr = np.arange(-1.5, 4, 2)\n",
    "print(repr(arr))\n",
    "\n",
    "# Like np.array, np.arange performs upcasting. It also has the dtype keyword argument to manually cast the array.\n",
    "\n",
    "\n",
    "arr = np.linspace(5, 11, num=4)\n",
    "print(repr(arr))\n",
    "\n",
    "arr = np.linspace(5, 11, num=4, endpoint=False)\n",
    "print(repr(arr))\n",
    "\n",
    "arr = np.linspace(5, 11, num=4, dtype=np.int32)\n",
    "print(repr(arr))\n",
    "\n",
    "arr = np.arange(8)\n",
    "\n",
    "reshaped_arr = np.reshape(arr, (2, 4))\n",
    "print(repr(reshaped_arr))\n",
    "print('New shape: {}'.format(reshaped_arr.shape))\n",
    "\n",
    "reshaped_arr = np.reshape(arr, (-1, 2, 2))\n",
    "print(repr(reshaped_arr))\n",
    "print('New shape: {}'.format(reshaped_arr.shape))\n",
    "\n",
    "\n",
    "arr = np.arange(8)\n",
    "arr = np.reshape(arr, (2, 4))\n",
    "flattened = arr.flatten()\n",
    "print(repr(arr))\n",
    "print('arr shape: {}'.format(arr.shape))\n",
    "print(repr(flattened))\n",
    "print('flattened shape: {}'.format(flattened.shape))\n",
    "\n",
    "arr = np.arange(8)\n",
    "arr = np.reshape(arr, (4, 2))\n",
    "transposed = np.transpose(arr)\n",
    "print(repr(arr))\n",
    "print('arr shape: {}'.format(arr.shape))\n",
    "print(repr(transposed))\n",
    "print('transposed shape: {}'.format(transposed.shape))\n",
    "\n",
    "arr = np.arange(24)\n",
    "arr = np.reshape(arr, (3, 4, 2))\n",
    "transposed = np.transpose(arr, axes=(1, 2, 0))\n",
    "print('arr shape: {}'.format(arr.shape))\n",
    "print('transposed shape: {}'.format(transposed.shape))\n",
    "\n",
    "arr = np.zeros(4)\n",
    "print(repr(arr))\n",
    "\n",
    "arr = np.ones((2, 3))\n",
    "print(repr(arr))\n",
    "\n",
    "arr = np.ones((2, 3), dtype=np.int32)\n",
    "print(repr(arr))\n",
    "\n",
    "arr = np.array([[1, 2], [3, 4]])\n",
    "print(repr(np.zeros_like(arr)))\n",
    "\n",
    "arr = np.array([[0., 1.], [1.2, 4.]])\n",
    "print(repr(np.ones_like(arr)))\n",
    "print(repr(np.ones_like(arr, dtype=np.int32)))\n"
   ]
  },
  {
   "cell_type": "code",
   "execution_count": 7,
   "id": "7f5c887d",
   "metadata": {},
   "outputs": [
    {
     "data": {
      "text/plain": [
       "array([[[1, 1, 1],\n",
       "        [1, 1, 1]],\n",
       "\n",
       "       [[1, 1, 1],\n",
       "        [1, 1, 1]],\n",
       "\n",
       "       [[1, 1, 1],\n",
       "        [1, 1, 1]],\n",
       "\n",
       "       [[1, 1, 1],\n",
       "        [1, 1, 1]]])"
      ]
     },
     "execution_count": 7,
     "metadata": {},
     "output_type": "execute_result"
    }
   ],
   "source": [
    "zeros_arr = np.zeros(5)\n",
    "ones_arr = np.ones_like(transposed)\n",
    "ones_arr"
   ]
  },
  {
   "cell_type": "code",
   "execution_count": 8,
   "id": "7d80c2b0",
   "metadata": {},
   "outputs": [
    {
     "data": {
      "text/plain": [
       "array([-3.5 , -3.45, -3.4 , -3.35, -3.3 , -3.25, -3.2 , -3.15, -3.1 ,\n",
       "       -3.05, -3.  , -2.95, -2.9 , -2.85, -2.8 , -2.75, -2.7 , -2.65,\n",
       "       -2.6 , -2.55, -2.5 , -2.45, -2.4 , -2.35, -2.3 , -2.25, -2.2 ,\n",
       "       -2.15, -2.1 , -2.05, -2.  , -1.95, -1.9 , -1.85, -1.8 , -1.75,\n",
       "       -1.7 , -1.65, -1.6 , -1.55, -1.5 , -1.45, -1.4 , -1.35, -1.3 ,\n",
       "       -1.25, -1.2 , -1.15, -1.1 , -1.05, -1.  , -0.95, -0.9 , -0.85,\n",
       "       -0.8 , -0.75, -0.7 , -0.65, -0.6 , -0.55, -0.5 , -0.45, -0.4 ,\n",
       "       -0.35, -0.3 , -0.25, -0.2 , -0.15, -0.1 , -0.05,  0.  ,  0.05,\n",
       "        0.1 ,  0.15,  0.2 ,  0.25,  0.3 ,  0.35,  0.4 ,  0.45,  0.5 ,\n",
       "        0.55,  0.6 ,  0.65,  0.7 ,  0.75,  0.8 ,  0.85,  0.9 ,  0.95,\n",
       "        1.  ,  1.05,  1.1 ,  1.15,  1.2 ,  1.25,  1.3 ,  1.35,  1.4 ,\n",
       "        1.45,  1.5 ])"
      ]
     },
     "execution_count": 8,
     "metadata": {},
     "output_type": "execute_result"
    }
   ],
   "source": [
    "points = np.linspace(-3.5, 1.5, num=101)\n",
    "points"
   ]
  },
  {
   "cell_type": "code",
   "execution_count": 9,
   "id": "9f267f9a",
   "metadata": {},
   "outputs": [
    {
     "name": "stdout",
     "output_type": "stream",
     "text": [
      "array([[2, 3],\n",
      "       [4, 5]])\n",
      "array([[-0.2,  0.8],\n",
      "       [ 1.8,  2.8]])\n",
      "array([[2, 4],\n",
      "       [6, 8]])\n",
      "array([[1.        , 1.41421356],\n",
      "       [1.73205081, 2.        ]])\n"
     ]
    }
   ],
   "source": [
    "arr = np.array([[1, 2], [3, 4]])\n",
    "# Add 1 to element values\n",
    "print(repr(arr + 1))\n",
    "# Subtract element values by 1.2\n",
    "print(repr(arr - 1.2))\n",
    "# Double element values\n",
    "print(repr(arr * 2))\n",
    "# Square root element values\n",
    "print(repr(arr**0.5))"
   ]
  },
  {
   "cell_type": "code",
   "execution_count": 10,
   "id": "5cf13d27",
   "metadata": {},
   "outputs": [
    {
     "name": "stdout",
     "output_type": "stream",
     "text": [
      "Celsius: array([  0., -20., -10., -40.])\n"
     ]
    }
   ],
   "source": [
    "def f2c(temps):\n",
    "  return (5/9)*(temps-32)\n",
    "\n",
    "fahrenheits = np.array([32, -4, 14, -40])\n",
    "celsius = f2c(fahrenheits)\n",
    "print('Celsius: {}'.format(repr(celsius)))"
   ]
  },
  {
   "cell_type": "code",
   "execution_count": 11,
   "id": "809777e2",
   "metadata": {},
   "outputs": [
    {
     "name": "stdout",
     "output_type": "stream",
     "text": [
      "array([[ 2.71828183,  7.3890561 ],\n",
      "       [20.08553692, 54.59815003]])\n",
      "array([[ 2.,  4.],\n",
      "       [ 8., 16.]])\n",
      "array([[0.        , 2.30258509],\n",
      "       [1.        , 1.14472989]])\n",
      "array([[0.        , 1.        ],\n",
      "       [0.43429448, 0.49714987]])\n",
      "array([[ 3,  9],\n",
      "       [27, 81]])\n",
      "array([[ 10.2,  16. ],\n",
      "       [ 27. , 625. ]])\n",
      "27\n",
      "array([[  5,   4,  -7],\n",
      "       [  9,   8, -13],\n",
      "       [ 13,  12, -19]])\n",
      "array([[  4,   4],\n",
      "       [-11, -10]])\n"
     ]
    }
   ],
   "source": [
    "arr = np.array([[1, 2], [3, 4]])\n",
    "# Raised to power of e\n",
    "print(repr(np.exp(arr)))\n",
    "# Raised to power of 2\n",
    "print(repr(np.exp2(arr)))\n",
    "\n",
    "arr2 = np.array([[1, 10], [np.e, np.pi]])\n",
    "# Natural logarithm\n",
    "print(repr(np.log(arr2)))\n",
    "# Base 10 logarithm\n",
    "print(repr(np.log10(arr2)))\n",
    "\n",
    "arr = np.array([[1, 2], [3, 4]])\n",
    "# Raise 3 to power of each number in arr\n",
    "print(repr(np.power(3, arr)))\n",
    "arr2 = np.array([[10.2, 4], [3, 5]])\n",
    "# Raise arr2 to power of each number in arr\n",
    "print(repr(np.power(arr2, arr)))\n",
    "\n",
    "\n",
    "arr1 = np.array([1, 2, 3])\n",
    "arr2 = np.array([-3, 0, 10])\n",
    "print(np.matmul(arr1, arr2))\n",
    "\n",
    "arr3 = np.array([[1, 2], [3, 4], [5, 6]])\n",
    "arr4 = np.array([[-1, 0, 1], [3, 2, -4]])\n",
    "print(repr(np.matmul(arr3, arr4)))\n",
    "print(repr(np.matmul(arr4, arr3)))\n",
    "# This will result in a ValueError: If we uncomment line 10 and run again.\n",
    "#print(repr(np.matmul(arr3, arr3)))\n",
    "\n",
    "\n",
    "# CODE HERE\n",
    "arr = np.array([[-0.5, 0.8, -0.1], [0.0, -1.2, 1.3]])\n",
    "arr2 = np.array([[1.2, 3.1], [1.2, 0.3], [1.5, 2.2]])\n",
    "\n",
    "# CODE HERE\n",
    "multiplied = arr * np.pi\n",
    "added = arr + multiplied\n",
    "squared = added ** 2\n",
    "\n",
    "exponential = np.exp(squared)\n",
    "logged = np.log(arr2)\n",
    "\n",
    "matmul1 = np.matmul(logged, exponential)\n",
    "matmul2 = np.matmul(exponential, logged)"
   ]
  },
  {
   "cell_type": "code",
   "execution_count": 12,
   "id": "dc5d47cb",
   "metadata": {},
   "outputs": [
    {
     "name": "stdout",
     "output_type": "stream",
     "text": [
      "4\n",
      "0\n",
      "5\n",
      "array([[ 8,  3],\n",
      "       [-2,  9]])\n",
      "5\n",
      "array([[15, 75],\n",
      "       [12, 78]])\n",
      "array([[0.20756989, 2.82863814],\n",
      "       [5.30051336, 4.47069153]])\n",
      "0.3132735169322751\n",
      "-2.6542619796017553\n",
      "5.532927207505735\n",
      "array([[-1.61342636, -8.5808566 ],\n",
      "       [-2.75241634,  1.00895729]])\n"
     ]
    }
   ],
   "source": [
    "print(np.random.randint(5))\n",
    "print(np.random.randint(5))\n",
    "print(np.random.randint(5, high=6))\n",
    "\n",
    "random_arr = np.random.randint(-3, high=14,\n",
    "                               size=(2, 2))\n",
    "print(repr(random_arr))\n",
    "\n",
    "# Original seed\n",
    "np.random.seed(1)\n",
    "print(np.random.randint(10))\n",
    "random_arr = np.random.randint(3, high=100,\n",
    "                               size=(2, 2))\n",
    "print(repr(random_arr))\n",
    "\n",
    "vec = np.array([1, 2, 3, 4, 5])\n",
    "np.random.shuffle(vec)\n",
    "\n",
    "print(repr(np.random.uniform(low=-3.4, high=5.9,\n",
    "                             size=(2, 2))))\n",
    "\n",
    "print(np.random.uniform())\n",
    "\n",
    "\n",
    "# Distributions\n",
    "# Another popular distribution we can sample from is the normal (Gaussian) distribution. \n",
    "# The function we use is np.random.normal.\n",
    "# The loc and scale keyword arguments represent the mean and standard deviation, \n",
    "# respectively, of the normal distribution we sample from.\n",
    "print(np.random.normal())\n",
    "print(np.random.normal(loc=1.5, scale=3.5))\n",
    "print(repr(np.random.normal(loc=-2.4, scale=4.0,\n",
    "                            size=(2, 2))))"
   ]
  },
  {
   "cell_type": "code",
   "execution_count": 13,
   "id": "88b9d539",
   "metadata": {},
   "outputs": [
    {
     "name": "stdout",
     "output_type": "stream",
     "text": [
      "blue\n",
      "array(['green', 'red'], dtype='<U5')\n",
      "array([['red', 'red'],\n",
      "       ['blue', 'red']], dtype='<U5')\n"
     ]
    },
    {
     "data": {
      "text/plain": [
       "\"\\nIn the example, we set p such that 'red' has a probability of 0.8 of being chosen, \\n'blue' has a probability of 0.19, and 'green' has a probability of 0.01. When p is not set, \\nthe probabilities are equal for each element in the distribution (and sum to 1).\""
      ]
     },
     "execution_count": 13,
     "metadata": {},
     "output_type": "execute_result"
    }
   ],
   "source": [
    "colors = ['red', 'blue', 'green']\n",
    "print(np.random.choice(colors))\n",
    "print(repr(np.random.choice(colors, size=2)))\n",
    "print(repr(np.random.choice(colors, size=(2, 2),\n",
    "                            p=[0.8, 0.19, 0.01])))\n",
    "\"\"\"\n",
    "In the example, we set p such that 'red' has a probability of 0.8 of being chosen, \n",
    "'blue' has a probability of 0.19, and 'green' has a probability of 0.01. When p is not set, \n",
    "the probabilities are equal for each element in the distribution (and sum to 1).\"\"\""
   ]
  },
  {
   "cell_type": "code",
   "execution_count": 14,
   "id": "f7df40d1",
   "metadata": {},
   "outputs": [
    {
     "name": "stdout",
     "output_type": "stream",
     "text": [
      "a\n"
     ]
    }
   ],
   "source": [
    "random1 = np.random.randint(5)\n",
    "random_arr = np.random.randint(3, high=10, size=(3, 5))\n",
    "\n",
    "random_uniform = np.random.uniform(low=-2.5, high=1.5, size=5)\n",
    "\n",
    "random_norm = np.random.normal(loc=2.0, scale=3.5, size=(10, 5))\n",
    "\n",
    "choices = ['a', 'b', 'c', 'd']\n",
    "choice = np.random.choice(choices, p=[0.5, 0.1, 0.2, 0.2])\n",
    "print(choice)\n",
    "\n",
    "arr = np.array([1, 2, 3, 4, 5])\n",
    "np.random.shuffle(arr)"
   ]
  },
  {
   "cell_type": "code",
   "execution_count": 15,
   "id": "1b5ad705",
   "metadata": {},
   "outputs": [
    {
     "name": "stdout",
     "output_type": "stream",
     "text": [
      "array([1, 4, 5, 3])\n",
      "array([3, 2])\n",
      "array([[1, 2, 3],\n",
      "       [4, 5, 6],\n",
      "       [7, 8, 9]])\n",
      "array([[4, 5, 6],\n",
      "       [7, 8, 9]])\n",
      "array([3, 6, 9])\n",
      "array([[2, 3],\n",
      "       [5, 6],\n",
      "       [8, 9]])\n",
      "array([[2, 3]])\n",
      "array([2, 3])\n"
     ]
    }
   ],
   "source": [
    "# indexing\n",
    "# slicing\n",
    "print(repr(arr[:-1]))\n",
    "print(repr(arr[-2:]))\n",
    "\n",
    "arr = np.array([[1, 2, 3],\n",
    "                [4, 5, 6],\n",
    "                [7, 8, 9]])\n",
    "print(repr(arr[:]))\n",
    "print(repr(arr[1:]))\n",
    "print(repr(arr[:, -1]))\n",
    "print(repr(arr[:, 1:]))\n",
    "print(repr(arr[0:1, 1:]))\n",
    "print(repr(arr[0, 1:]))"
   ]
  },
  {
   "cell_type": "code",
   "execution_count": 16,
   "id": "b480aa95",
   "metadata": {},
   "outputs": [
    {
     "name": "stdout",
     "output_type": "stream",
     "text": [
      "array([2, 0, 1])\n",
      "array([2, 2, 0])\n",
      "array([1, 1, 1])\n"
     ]
    }
   ],
   "source": [
    "arr = np.array([[-2, -1, -3],\n",
    "                [4, 5, -6],\n",
    "                [-3, 9, 1]])\n",
    "print(repr(np.argmin(arr, axis=0)))\n",
    "print(repr(np.argmin(arr, axis=1)))\n",
    "print(repr(np.argmax(arr, axis=-1)))\n",
    "\n",
    "# In our example, using axis=0 meant the function found the index of the minimum row element for each column. \n",
    "# When we used axis=1, the function found the index of the minimum column element for each row.\n",
    "\n",
    "def slice_data(data):\n",
    "  slice1 = data[:, 1:]\n",
    "  slice2 = data[:3, : -2]\n",
    "  return (slice1, slice2)\n",
    "\n",
    "def argmin_data(data):\n",
    "  argmin_all = np.argmin(data)\n",
    "  argmin1 = np.argmin(data, axis=1)\n",
    "  return argmin_all, argmin1\n",
    "\n",
    "\n",
    "def argmax_data(data):\n",
    "  argmax_neg1 = np.argmax(data, axis=-1)\n",
    "  return argmax_neg1"
   ]
  },
  {
   "cell_type": "code",
   "execution_count": 17,
   "id": "65c1cbcc",
   "metadata": {},
   "outputs": [
    {
     "name": "stdout",
     "output_type": "stream",
     "text": [
      "array([[False, False,  True],\n",
      "       [False,  True, False],\n",
      "       [False, False, False]])\n",
      "array([[False,  True,  True],\n",
      "       [ True,  True, False],\n",
      "       [False, False,  True]])\n",
      "array([[ True,  True,  True],\n",
      "       [False,  True,  True],\n",
      "       [ True,  True, False]])\n",
      "array([[False, False, False],\n",
      "       [ True, False, False],\n",
      "       [False, False,  True]])\n",
      "array([[False, False,  True],\n",
      "       [False,  True, False],\n",
      "       [ True, False, False]])\n",
      "(array([1, 3]),)\n",
      "array([0, 0, 1, 2])\n",
      "array([1, 2, 0, 0])\n",
      "array([ 2,  3,  1, -3])\n",
      "array([[ 1, -5],\n",
      "       [-1,  4]])\n",
      "array([[-2, -5],\n",
      "       [ 3,  4]])\n",
      "array([[-2, -5],\n",
      "       [-1, -8]])\n",
      "array([[ 1, -1],\n",
      "       [-1,  4]])\n",
      "array([[False, False, False],\n",
      "       [ True,  True, False],\n",
      "       [ True,  True,  True]])\n",
      "True\n",
      "False\n",
      "array([[False, False, False],\n",
      "       [ True,  True, False],\n",
      "       [ True,  True,  True]])\n",
      "array([ True,  True,  True])\n",
      "array([False,  True,  True])\n",
      "array([False, False,  True])\n",
      "[False  True  True]\n",
      "array([[ 4,  5, -6],\n",
      "       [ 3,  9,  1]])\n"
     ]
    }
   ],
   "source": [
    "# Filtering\n",
    "\n",
    "## A. Filtering data\n",
    "\n",
    "arr = np.array([[0, 2, 3],\n",
    "                [1, 3, -6],\n",
    "                [-3, -2, 1]])\n",
    "print(repr(arr == 3))\n",
    "print(repr(arr > 0))\n",
    "print(repr(arr != 1))\n",
    "# Negated from the previous step\n",
    "print(repr(~(arr != 1)))\n",
    "arr = np.array([[0, 2, np.nan],\n",
    "                [1, np.nan, -6],\n",
    "                [np.nan, -2, 1]])\n",
    "print(repr(np.isnan(arr)))\n",
    "\n",
    "## B. Filtering in NumPy\n",
    "\n",
    "arr = np.array([0, 3, 5, 3, 1])\n",
    "print(repr(np.where(arr == 3)))\n",
    "\n",
    "arr = np.array([[0, 2, 3],\n",
    "                [1, 0, 0],\n",
    "                [-3, 0, 0]])\n",
    "x_ind, y_ind = np.where(arr != 0)\n",
    "print(repr(x_ind)) # x indices of non-zero elements\n",
    "print(repr(y_ind)) # y indices of non-zero elements\n",
    "print(repr(arr[x_ind, y_ind]))\n",
    "\n",
    "# (array([0, 2]),)\n",
    "# (array([1, 3]),)\n",
    "# array([0, 0, 1, 2])\n",
    "# array([1, 2, 0, 0])\n",
    "# array([ 2,  3,  1, -3])\n",
    "\n",
    "np_filter = np.array([[True, False], [False, True]])\n",
    "positives = np.array([[1, 2], [3, 4]])\n",
    "negatives = np.array([[-2, -5], [-1, -8]])\n",
    "print(repr(np.where(np_filter, positives, negatives)))\n",
    "\n",
    "np_filter = positives > 2\n",
    "print(repr(np.where(np_filter, positives, negatives)))\n",
    "\n",
    "np_filter = negatives > 0\n",
    "print(repr(np.where(np_filter, positives, negatives)))\n",
    "\n",
    "np_filter = np.array([[True, False], [False, True]])\n",
    "positives = np.array([[1, 2], [3, 4]])\n",
    "print(repr(np.where(np_filter, positives, -1)))\n",
    "\n",
    "## C. Axis-wise filtering\n",
    "\n",
    "arr = np.array([[-2, -1, -3],\n",
    "                [4, 5, -6],\n",
    "                [3, 9, 1]])\n",
    "print(repr(arr > 0))\n",
    "print(np.any(arr > 0))\n",
    "print(np.all(arr > 0))\n",
    "\n",
    "\n",
    "arr = np.array([[-2, -1, -3],\n",
    "                [4, 5, -6],\n",
    "                [3, 9, 1]])\n",
    "print(repr(arr > 0))\n",
    "print(repr(np.any(arr > 0, axis=0)))\n",
    "print(repr(np.any(arr > 0, axis=1)))\n",
    "print(repr(np.all(arr > 0, axis=1)))\n",
    "\n",
    "# array([[False, False, False],\n",
    "#        [ True,  True, False],\n",
    "#        [ True,  True,  True]])\n",
    "# array([ True,  True,  True])\n",
    "# array([False,  True,  True])\n",
    "# array([False, False,  True])\n",
    "\n",
    "# axis = 0 means column wise (min row element for each column)\n",
    "# axis = 1 means row wise\n",
    "\n",
    "arr = np.array([[-2, -1, -3],\n",
    "                [4, 5, -6],\n",
    "                [3, 9, 1]])\n",
    "has_positive = np.any(arr > 0, axis=1)\n",
    "print(has_positive)\n",
    "print(repr(arr[np.where(has_positive)]))"
   ]
  },
  {
   "cell_type": "code",
   "execution_count": 18,
   "id": "ca7742fa",
   "metadata": {},
   "outputs": [],
   "source": [
    "# time to code filtering\n",
    "\n",
    "def get_positives(data):\n",
    "  x_ind, y_ind = np.where(data > 0)\n",
    "  return data[x_ind, y_ind]\n",
    "\n",
    "def replace_zeros(data):\n",
    "  zeros = np.zeros_like(data)\n",
    "  zero_replace = np.where(data > 0, data, zeros)\n",
    "  return zero_replace\n",
    "\n",
    "def replace_neg_one(data):\n",
    "  neg_one_replace = np.where(data > 0, data, -1)\n",
    "  return neg_one_replace\n",
    "\n",
    "def coin_flip_filter(data):\n",
    "  coin_flips = np.random.randint(2, size=data.shape)\n",
    "  bool_coin_flips = coin_flips.astype(np.bool)\n",
    "  one_replace = np.where(bool_coin_flips, data, 1)\n",
    "  return one_replace"
   ]
  },
  {
   "cell_type": "code",
   "execution_count": 19,
   "id": "d7713f53",
   "metadata": {},
   "outputs": [
    {
     "name": "stdout",
     "output_type": "stream",
     "text": [
      "-60\n",
      "72\n",
      "array([ -3,  -2, -60])\n",
      "array([72,  3,  4])\n",
      "2.0\n",
      "977.3333333333334\n",
      "1.0\n",
      "array([ 3.,  1., -2.])\n"
     ]
    }
   ],
   "source": [
    "# Statistics\n",
    "\n",
    "## A. Analysis\n",
    "\n",
    "arr = np.array([[0, 72, 3],\n",
    "                [1, 3, -60],\n",
    "                [-3, -2, 4]])\n",
    "print(arr.min())\n",
    "print(arr.max())\n",
    "\n",
    "print(repr(arr.min(axis=0)))\n",
    "print(repr(arr.max(axis=-1)))\n",
    "\n",
    "arr = np.array([[0, 72, 3],\n",
    "                [1, 3, -60],\n",
    "                [-3, -2, 4]])\n",
    "print(np.mean(arr))\n",
    "print(np.var(arr))\n",
    "print(np.median(arr))\n",
    "print(repr(np.median(arr, axis=-1)))\n",
    "\n",
    "def get_min_max(data):\n",
    "  overall_min = np.min(data)\n",
    "  overall_max = np.max(data)\n",
    "  return overall_min, overall_max\n",
    "\n",
    "def col_min(data):\n",
    "  min0 = np.min(data, axis=0)\n",
    "  return min0\n",
    "\n",
    "def basic_stats(data):\n",
    "  mean = np.mean(data)\n",
    "  median = np.median(data)\n",
    "  var = np.var(data)\n",
    "  return mean, median, var"
   ]
  },
  {
   "cell_type": "code",
   "execution_count": 20,
   "id": "6b6697cf",
   "metadata": {},
   "outputs": [],
   "source": [
    "# Aggregation\n",
    "\n",
    "## A. Summation\n"
   ]
  }
 ],
 "metadata": {
  "kernelspec": {
   "display_name": "Python 3 (ipykernel)",
   "language": "python",
   "name": "python3"
  },
  "language_info": {
   "codemirror_mode": {
    "name": "ipython",
    "version": 3
   },
   "file_extension": ".py",
   "mimetype": "text/x-python",
   "name": "python",
   "nbconvert_exporter": "python",
   "pygments_lexer": "ipython3",
   "version": "3.9.13"
  }
 },
 "nbformat": 4,
 "nbformat_minor": 5
}
